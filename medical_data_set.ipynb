{
  "nbformat": 4,
  "nbformat_minor": 0,
  "metadata": {
    "colab": {
      "provenance": []
    },
    "kernelspec": {
      "name": "python3",
      "display_name": "Python 3"
    },
    "language_info": {
      "name": "python"
    }
  },
  "cells": [
    {
      "cell_type": "markdown",
      "source": [
        "# ***Medical DataSet Analysis***"
      ],
      "metadata": {
        "id": "ERYd7ywMJu_k"
      }
    },
    {
      "cell_type": "code",
      "execution_count": null,
      "metadata": {
        "id": "T_A6W5-Fd0IT"
      },
      "outputs": [],
      "source": [
        "import numpy as np\n",
        "import matplotlib.pyplot as plt\n",
        "import seaborn as sns\n",
        "import pandas as pd"
      ]
    },
    {
      "cell_type": "code",
      "source": [
        "df=pd.read_csv(\"/content/medical data set.csv\")"
      ],
      "metadata": {
        "id": "5vQybHjoeWdt"
      },
      "execution_count": null,
      "outputs": []
    },
    {
      "cell_type": "markdown",
      "source": [
        "#**First and last five records of the data set**"
      ],
      "metadata": {
        "id": "gkcs3d6BKGtr"
      }
    },
    {
      "cell_type": "code",
      "source": [
        "df.head()"
      ],
      "metadata": {
        "id": "BvRt-cLAeh9a",
        "colab": {
          "base_uri": "https://localhost:8080/",
          "height": 206
        },
        "outputId": "961cf402-0498-4bb4-b0f2-a0339985a57d"
      },
      "execution_count": null,
      "outputs": [
        {
          "output_type": "execute_result",
          "data": {
            "text/plain": [
              "   Patient ID Gender Marital Status     City State  Zip Code  Age   Procedure  \\\n",
              "0       11234      M        Married  Allison    CO     81137   62  Extraction   \n",
              "1       15620      F         Single  Allison    CO     81137   94  Extraction   \n",
              "2       19622      M       Divorced  Allison    CO     81137   90  Extraction   \n",
              "3       21829      F        Widowed  Allison    CO     81137   81       Crown   \n",
              "4       21962      F         Single  Allison    CO     81137   45  Extraction   \n",
              "\n",
              "  Follow-up Attended?  \n",
              "0                 Yes  \n",
              "1                  No  \n",
              "2                  No  \n",
              "3                  No  \n",
              "4                 Yes  "
            ],
            "text/html": [
              "\n",
              "  <div id=\"df-18a281ee-4091-4ec8-8aec-dfc98eeb6dc5\">\n",
              "    <div class=\"colab-df-container\">\n",
              "      <div>\n",
              "<style scoped>\n",
              "    .dataframe tbody tr th:only-of-type {\n",
              "        vertical-align: middle;\n",
              "    }\n",
              "\n",
              "    .dataframe tbody tr th {\n",
              "        vertical-align: top;\n",
              "    }\n",
              "\n",
              "    .dataframe thead th {\n",
              "        text-align: right;\n",
              "    }\n",
              "</style>\n",
              "<table border=\"1\" class=\"dataframe\">\n",
              "  <thead>\n",
              "    <tr style=\"text-align: right;\">\n",
              "      <th></th>\n",
              "      <th>Patient ID</th>\n",
              "      <th>Gender</th>\n",
              "      <th>Marital Status</th>\n",
              "      <th>City</th>\n",
              "      <th>State</th>\n",
              "      <th>Zip Code</th>\n",
              "      <th>Age</th>\n",
              "      <th>Procedure</th>\n",
              "      <th>Follow-up Attended?</th>\n",
              "    </tr>\n",
              "  </thead>\n",
              "  <tbody>\n",
              "    <tr>\n",
              "      <th>0</th>\n",
              "      <td>11234</td>\n",
              "      <td>M</td>\n",
              "      <td>Married</td>\n",
              "      <td>Allison</td>\n",
              "      <td>CO</td>\n",
              "      <td>81137</td>\n",
              "      <td>62</td>\n",
              "      <td>Extraction</td>\n",
              "      <td>Yes</td>\n",
              "    </tr>\n",
              "    <tr>\n",
              "      <th>1</th>\n",
              "      <td>15620</td>\n",
              "      <td>F</td>\n",
              "      <td>Single</td>\n",
              "      <td>Allison</td>\n",
              "      <td>CO</td>\n",
              "      <td>81137</td>\n",
              "      <td>94</td>\n",
              "      <td>Extraction</td>\n",
              "      <td>No</td>\n",
              "    </tr>\n",
              "    <tr>\n",
              "      <th>2</th>\n",
              "      <td>19622</td>\n",
              "      <td>M</td>\n",
              "      <td>Divorced</td>\n",
              "      <td>Allison</td>\n",
              "      <td>CO</td>\n",
              "      <td>81137</td>\n",
              "      <td>90</td>\n",
              "      <td>Extraction</td>\n",
              "      <td>No</td>\n",
              "    </tr>\n",
              "    <tr>\n",
              "      <th>3</th>\n",
              "      <td>21829</td>\n",
              "      <td>F</td>\n",
              "      <td>Widowed</td>\n",
              "      <td>Allison</td>\n",
              "      <td>CO</td>\n",
              "      <td>81137</td>\n",
              "      <td>81</td>\n",
              "      <td>Crown</td>\n",
              "      <td>No</td>\n",
              "    </tr>\n",
              "    <tr>\n",
              "      <th>4</th>\n",
              "      <td>21962</td>\n",
              "      <td>F</td>\n",
              "      <td>Single</td>\n",
              "      <td>Allison</td>\n",
              "      <td>CO</td>\n",
              "      <td>81137</td>\n",
              "      <td>45</td>\n",
              "      <td>Extraction</td>\n",
              "      <td>Yes</td>\n",
              "    </tr>\n",
              "  </tbody>\n",
              "</table>\n",
              "</div>\n",
              "      <button class=\"colab-df-convert\" onclick=\"convertToInteractive('df-18a281ee-4091-4ec8-8aec-dfc98eeb6dc5')\"\n",
              "              title=\"Convert this dataframe to an interactive table.\"\n",
              "              style=\"display:none;\">\n",
              "        \n",
              "  <svg xmlns=\"http://www.w3.org/2000/svg\" height=\"24px\"viewBox=\"0 0 24 24\"\n",
              "       width=\"24px\">\n",
              "    <path d=\"M0 0h24v24H0V0z\" fill=\"none\"/>\n",
              "    <path d=\"M18.56 5.44l.94 2.06.94-2.06 2.06-.94-2.06-.94-.94-2.06-.94 2.06-2.06.94zm-11 1L8.5 8.5l.94-2.06 2.06-.94-2.06-.94L8.5 2.5l-.94 2.06-2.06.94zm10 10l.94 2.06.94-2.06 2.06-.94-2.06-.94-.94-2.06-.94 2.06-2.06.94z\"/><path d=\"M17.41 7.96l-1.37-1.37c-.4-.4-.92-.59-1.43-.59-.52 0-1.04.2-1.43.59L10.3 9.45l-7.72 7.72c-.78.78-.78 2.05 0 2.83L4 21.41c.39.39.9.59 1.41.59.51 0 1.02-.2 1.41-.59l7.78-7.78 2.81-2.81c.8-.78.8-2.07 0-2.86zM5.41 20L4 18.59l7.72-7.72 1.47 1.35L5.41 20z\"/>\n",
              "  </svg>\n",
              "      </button>\n",
              "      \n",
              "  <style>\n",
              "    .colab-df-container {\n",
              "      display:flex;\n",
              "      flex-wrap:wrap;\n",
              "      gap: 12px;\n",
              "    }\n",
              "\n",
              "    .colab-df-convert {\n",
              "      background-color: #E8F0FE;\n",
              "      border: none;\n",
              "      border-radius: 50%;\n",
              "      cursor: pointer;\n",
              "      display: none;\n",
              "      fill: #1967D2;\n",
              "      height: 32px;\n",
              "      padding: 0 0 0 0;\n",
              "      width: 32px;\n",
              "    }\n",
              "\n",
              "    .colab-df-convert:hover {\n",
              "      background-color: #E2EBFA;\n",
              "      box-shadow: 0px 1px 2px rgba(60, 64, 67, 0.3), 0px 1px 3px 1px rgba(60, 64, 67, 0.15);\n",
              "      fill: #174EA6;\n",
              "    }\n",
              "\n",
              "    [theme=dark] .colab-df-convert {\n",
              "      background-color: #3B4455;\n",
              "      fill: #D2E3FC;\n",
              "    }\n",
              "\n",
              "    [theme=dark] .colab-df-convert:hover {\n",
              "      background-color: #434B5C;\n",
              "      box-shadow: 0px 1px 3px 1px rgba(0, 0, 0, 0.15);\n",
              "      filter: drop-shadow(0px 1px 2px rgba(0, 0, 0, 0.3));\n",
              "      fill: #FFFFFF;\n",
              "    }\n",
              "  </style>\n",
              "\n",
              "      <script>\n",
              "        const buttonEl =\n",
              "          document.querySelector('#df-18a281ee-4091-4ec8-8aec-dfc98eeb6dc5 button.colab-df-convert');\n",
              "        buttonEl.style.display =\n",
              "          google.colab.kernel.accessAllowed ? 'block' : 'none';\n",
              "\n",
              "        async function convertToInteractive(key) {\n",
              "          const element = document.querySelector('#df-18a281ee-4091-4ec8-8aec-dfc98eeb6dc5');\n",
              "          const dataTable =\n",
              "            await google.colab.kernel.invokeFunction('convertToInteractive',\n",
              "                                                     [key], {});\n",
              "          if (!dataTable) return;\n",
              "\n",
              "          const docLinkHtml = 'Like what you see? Visit the ' +\n",
              "            '<a target=\"_blank\" href=https://colab.research.google.com/notebooks/data_table.ipynb>data table notebook</a>'\n",
              "            + ' to learn more about interactive tables.';\n",
              "          element.innerHTML = '';\n",
              "          dataTable['output_type'] = 'display_data';\n",
              "          await google.colab.output.renderOutput(dataTable, element);\n",
              "          const docLink = document.createElement('div');\n",
              "          docLink.innerHTML = docLinkHtml;\n",
              "          element.appendChild(docLink);\n",
              "        }\n",
              "      </script>\n",
              "    </div>\n",
              "  </div>\n",
              "  "
            ]
          },
          "metadata": {},
          "execution_count": 3
        }
      ]
    },
    {
      "cell_type": "code",
      "source": [
        "df.tail()"
      ],
      "metadata": {
        "colab": {
          "base_uri": "https://localhost:8080/",
          "height": 206
        },
        "id": "S0Dqd0X6KBHb",
        "outputId": "14db1c52-275d-4d9d-825b-27bf073c2391"
      },
      "execution_count": null,
      "outputs": [
        {
          "output_type": "execute_result",
          "data": {
            "text/plain": [
              "    Patient ID Gender Marital Status     City State  Zip Code  Age  \\\n",
              "94      909853      T        Widowed  Allison    CO     81137   78   \n",
              "95      915871      F    Partnership  Allison    CO     81137   36   \n",
              "96      923490      M         Single  Allison    CO     81137   38   \n",
              "97      934101      F         Single  Allison    CO     81137   39   \n",
              "98      936597      M         Single  Allison    CO     81137   27   \n",
              "\n",
              "            Procedure Follow-up Attended?  \n",
              "94         Extraction                  No  \n",
              "95  Emergency Surgery                 Yes  \n",
              "96         Extraction                 Yes  \n",
              "97  Emergency Surgery                 Yes  \n",
              "98         Extraction                 Yes  "
            ],
            "text/html": [
              "\n",
              "  <div id=\"df-7a661915-e31c-41d6-bef3-f4564e5a187c\">\n",
              "    <div class=\"colab-df-container\">\n",
              "      <div>\n",
              "<style scoped>\n",
              "    .dataframe tbody tr th:only-of-type {\n",
              "        vertical-align: middle;\n",
              "    }\n",
              "\n",
              "    .dataframe tbody tr th {\n",
              "        vertical-align: top;\n",
              "    }\n",
              "\n",
              "    .dataframe thead th {\n",
              "        text-align: right;\n",
              "    }\n",
              "</style>\n",
              "<table border=\"1\" class=\"dataframe\">\n",
              "  <thead>\n",
              "    <tr style=\"text-align: right;\">\n",
              "      <th></th>\n",
              "      <th>Patient ID</th>\n",
              "      <th>Gender</th>\n",
              "      <th>Marital Status</th>\n",
              "      <th>City</th>\n",
              "      <th>State</th>\n",
              "      <th>Zip Code</th>\n",
              "      <th>Age</th>\n",
              "      <th>Procedure</th>\n",
              "      <th>Follow-up Attended?</th>\n",
              "    </tr>\n",
              "  </thead>\n",
              "  <tbody>\n",
              "    <tr>\n",
              "      <th>94</th>\n",
              "      <td>909853</td>\n",
              "      <td>T</td>\n",
              "      <td>Widowed</td>\n",
              "      <td>Allison</td>\n",
              "      <td>CO</td>\n",
              "      <td>81137</td>\n",
              "      <td>78</td>\n",
              "      <td>Extraction</td>\n",
              "      <td>No</td>\n",
              "    </tr>\n",
              "    <tr>\n",
              "      <th>95</th>\n",
              "      <td>915871</td>\n",
              "      <td>F</td>\n",
              "      <td>Partnership</td>\n",
              "      <td>Allison</td>\n",
              "      <td>CO</td>\n",
              "      <td>81137</td>\n",
              "      <td>36</td>\n",
              "      <td>Emergency Surgery</td>\n",
              "      <td>Yes</td>\n",
              "    </tr>\n",
              "    <tr>\n",
              "      <th>96</th>\n",
              "      <td>923490</td>\n",
              "      <td>M</td>\n",
              "      <td>Single</td>\n",
              "      <td>Allison</td>\n",
              "      <td>CO</td>\n",
              "      <td>81137</td>\n",
              "      <td>38</td>\n",
              "      <td>Extraction</td>\n",
              "      <td>Yes</td>\n",
              "    </tr>\n",
              "    <tr>\n",
              "      <th>97</th>\n",
              "      <td>934101</td>\n",
              "      <td>F</td>\n",
              "      <td>Single</td>\n",
              "      <td>Allison</td>\n",
              "      <td>CO</td>\n",
              "      <td>81137</td>\n",
              "      <td>39</td>\n",
              "      <td>Emergency Surgery</td>\n",
              "      <td>Yes</td>\n",
              "    </tr>\n",
              "    <tr>\n",
              "      <th>98</th>\n",
              "      <td>936597</td>\n",
              "      <td>M</td>\n",
              "      <td>Single</td>\n",
              "      <td>Allison</td>\n",
              "      <td>CO</td>\n",
              "      <td>81137</td>\n",
              "      <td>27</td>\n",
              "      <td>Extraction</td>\n",
              "      <td>Yes</td>\n",
              "    </tr>\n",
              "  </tbody>\n",
              "</table>\n",
              "</div>\n",
              "      <button class=\"colab-df-convert\" onclick=\"convertToInteractive('df-7a661915-e31c-41d6-bef3-f4564e5a187c')\"\n",
              "              title=\"Convert this dataframe to an interactive table.\"\n",
              "              style=\"display:none;\">\n",
              "        \n",
              "  <svg xmlns=\"http://www.w3.org/2000/svg\" height=\"24px\"viewBox=\"0 0 24 24\"\n",
              "       width=\"24px\">\n",
              "    <path d=\"M0 0h24v24H0V0z\" fill=\"none\"/>\n",
              "    <path d=\"M18.56 5.44l.94 2.06.94-2.06 2.06-.94-2.06-.94-.94-2.06-.94 2.06-2.06.94zm-11 1L8.5 8.5l.94-2.06 2.06-.94-2.06-.94L8.5 2.5l-.94 2.06-2.06.94zm10 10l.94 2.06.94-2.06 2.06-.94-2.06-.94-.94-2.06-.94 2.06-2.06.94z\"/><path d=\"M17.41 7.96l-1.37-1.37c-.4-.4-.92-.59-1.43-.59-.52 0-1.04.2-1.43.59L10.3 9.45l-7.72 7.72c-.78.78-.78 2.05 0 2.83L4 21.41c.39.39.9.59 1.41.59.51 0 1.02-.2 1.41-.59l7.78-7.78 2.81-2.81c.8-.78.8-2.07 0-2.86zM5.41 20L4 18.59l7.72-7.72 1.47 1.35L5.41 20z\"/>\n",
              "  </svg>\n",
              "      </button>\n",
              "      \n",
              "  <style>\n",
              "    .colab-df-container {\n",
              "      display:flex;\n",
              "      flex-wrap:wrap;\n",
              "      gap: 12px;\n",
              "    }\n",
              "\n",
              "    .colab-df-convert {\n",
              "      background-color: #E8F0FE;\n",
              "      border: none;\n",
              "      border-radius: 50%;\n",
              "      cursor: pointer;\n",
              "      display: none;\n",
              "      fill: #1967D2;\n",
              "      height: 32px;\n",
              "      padding: 0 0 0 0;\n",
              "      width: 32px;\n",
              "    }\n",
              "\n",
              "    .colab-df-convert:hover {\n",
              "      background-color: #E2EBFA;\n",
              "      box-shadow: 0px 1px 2px rgba(60, 64, 67, 0.3), 0px 1px 3px 1px rgba(60, 64, 67, 0.15);\n",
              "      fill: #174EA6;\n",
              "    }\n",
              "\n",
              "    [theme=dark] .colab-df-convert {\n",
              "      background-color: #3B4455;\n",
              "      fill: #D2E3FC;\n",
              "    }\n",
              "\n",
              "    [theme=dark] .colab-df-convert:hover {\n",
              "      background-color: #434B5C;\n",
              "      box-shadow: 0px 1px 3px 1px rgba(0, 0, 0, 0.15);\n",
              "      filter: drop-shadow(0px 1px 2px rgba(0, 0, 0, 0.3));\n",
              "      fill: #FFFFFF;\n",
              "    }\n",
              "  </style>\n",
              "\n",
              "      <script>\n",
              "        const buttonEl =\n",
              "          document.querySelector('#df-7a661915-e31c-41d6-bef3-f4564e5a187c button.colab-df-convert');\n",
              "        buttonEl.style.display =\n",
              "          google.colab.kernel.accessAllowed ? 'block' : 'none';\n",
              "\n",
              "        async function convertToInteractive(key) {\n",
              "          const element = document.querySelector('#df-7a661915-e31c-41d6-bef3-f4564e5a187c');\n",
              "          const dataTable =\n",
              "            await google.colab.kernel.invokeFunction('convertToInteractive',\n",
              "                                                     [key], {});\n",
              "          if (!dataTable) return;\n",
              "\n",
              "          const docLinkHtml = 'Like what you see? Visit the ' +\n",
              "            '<a target=\"_blank\" href=https://colab.research.google.com/notebooks/data_table.ipynb>data table notebook</a>'\n",
              "            + ' to learn more about interactive tables.';\n",
              "          element.innerHTML = '';\n",
              "          dataTable['output_type'] = 'display_data';\n",
              "          await google.colab.output.renderOutput(dataTable, element);\n",
              "          const docLink = document.createElement('div');\n",
              "          docLink.innerHTML = docLinkHtml;\n",
              "          element.appendChild(docLink);\n",
              "        }\n",
              "      </script>\n",
              "    </div>\n",
              "  </div>\n",
              "  "
            ]
          },
          "metadata": {},
          "execution_count": 4
        }
      ]
    },
    {
      "cell_type": "markdown",
      "source": [
        "#**Rows and Columns of the dataset**"
      ],
      "metadata": {
        "id": "_jGGCol2KPeS"
      }
    },
    {
      "cell_type": "code",
      "source": [
        "df.shape"
      ],
      "metadata": {
        "colab": {
          "base_uri": "https://localhost:8080/"
        },
        "id": "1uJAr-CJfxRk",
        "outputId": "e0e57e97-b64c-4119-84bb-92fd610fc554"
      },
      "execution_count": null,
      "outputs": [
        {
          "output_type": "execute_result",
          "data": {
            "text/plain": [
              "(99, 9)"
            ]
          },
          "metadata": {},
          "execution_count": 5
        }
      ]
    },
    {
      "cell_type": "markdown",
      "source": [
        "#**Check for Null Values**"
      ],
      "metadata": {
        "id": "wp-seIePKl73"
      }
    },
    {
      "cell_type": "code",
      "source": [
        "df.isnull().sum()"
      ],
      "metadata": {
        "id": "wV5oEtl8f2u5",
        "colab": {
          "base_uri": "https://localhost:8080/"
        },
        "outputId": "19ab0799-8105-4916-a3f0-1df136525acd"
      },
      "execution_count": null,
      "outputs": [
        {
          "output_type": "execute_result",
          "data": {
            "text/plain": [
              "Patient ID             0\n",
              "Gender                 0\n",
              "Marital Status         0\n",
              "City                   0\n",
              "State                  0\n",
              "Zip Code               0\n",
              "Age                    0\n",
              "Procedure              0\n",
              "Follow-up Attended?    0\n",
              "dtype: int64"
            ]
          },
          "metadata": {},
          "execution_count": 6
        }
      ]
    },
    {
      "cell_type": "markdown",
      "source": [
        "#**Check for any duplicate in Dataset**"
      ],
      "metadata": {
        "id": "pw4Vnk51KqOS"
      }
    },
    {
      "cell_type": "code",
      "source": [
        "df.duplicated()"
      ],
      "metadata": {
        "id": "af6pdBUDgFUU",
        "colab": {
          "base_uri": "https://localhost:8080/"
        },
        "outputId": "b4e66fd0-9f41-44dc-e2d1-e47c1b9caf49"
      },
      "execution_count": null,
      "outputs": [
        {
          "output_type": "execute_result",
          "data": {
            "text/plain": [
              "0     False\n",
              "1     False\n",
              "2     False\n",
              "3     False\n",
              "4     False\n",
              "      ...  \n",
              "94    False\n",
              "95    False\n",
              "96    False\n",
              "97    False\n",
              "98    False\n",
              "Length: 99, dtype: bool"
            ]
          },
          "metadata": {},
          "execution_count": 7
        }
      ]
    },
    {
      "cell_type": "markdown",
      "source": [
        "# ***Checking info of the dataset***"
      ],
      "metadata": {
        "id": "6TLY0lSSM89T"
      }
    },
    {
      "cell_type": "code",
      "source": [
        "df.info()"
      ],
      "metadata": {
        "id": "fj8gsnX4gWkv",
        "colab": {
          "base_uri": "https://localhost:8080/"
        },
        "outputId": "d30e9082-48b8-491f-a13a-e4f84c67745a"
      },
      "execution_count": null,
      "outputs": [
        {
          "output_type": "stream",
          "name": "stdout",
          "text": [
            "<class 'pandas.core.frame.DataFrame'>\n",
            "RangeIndex: 99 entries, 0 to 98\n",
            "Data columns (total 9 columns):\n",
            " #   Column               Non-Null Count  Dtype \n",
            "---  ------               --------------  ----- \n",
            " 0   Patient ID           99 non-null     int64 \n",
            " 1   Gender               99 non-null     object\n",
            " 2   Marital Status       99 non-null     object\n",
            " 3   City                 99 non-null     object\n",
            " 4   State                99 non-null     object\n",
            " 5   Zip Code             99 non-null     int64 \n",
            " 6   Age                  99 non-null     int64 \n",
            " 7   Procedure            99 non-null     object\n",
            " 8   Follow-up Attended?  99 non-null     object\n",
            "dtypes: int64(3), object(6)\n",
            "memory usage: 7.1+ KB\n"
          ]
        }
      ]
    },
    {
      "cell_type": "markdown",
      "source": [
        "#**HEADERS OF ALL THE COLUMNS**"
      ],
      "metadata": {
        "id": "tliNMQN5LVe-"
      }
    },
    {
      "cell_type": "code",
      "source": [
        "df.columns"
      ],
      "metadata": {
        "colab": {
          "base_uri": "https://localhost:8080/"
        },
        "id": "lXIBvEHng7tV",
        "outputId": "22bf0316-ed38-4f56-9672-98b86ed1c2fb"
      },
      "execution_count": null,
      "outputs": [
        {
          "output_type": "execute_result",
          "data": {
            "text/plain": [
              "Index(['Patient ID', 'Gender', 'Marital Status', 'City', 'State', 'Zip Code',\n",
              "       'Age', 'Procedure', 'Follow-up Attended?'],\n",
              "      dtype='object')"
            ]
          },
          "metadata": {},
          "execution_count": 9
        }
      ]
    },
    {
      "cell_type": "markdown",
      "source": [
        "#**Checking Data type**"
      ],
      "metadata": {
        "id": "EydgK6IGLhXc"
      }
    },
    {
      "cell_type": "code",
      "source": [
        "df.dtypes"
      ],
      "metadata": {
        "colab": {
          "base_uri": "https://localhost:8080/"
        },
        "id": "euuwdEJTLg-d",
        "outputId": "1a4d9bd8-be98-41cb-b82a-647d8e244419"
      },
      "execution_count": null,
      "outputs": [
        {
          "output_type": "execute_result",
          "data": {
            "text/plain": [
              "Patient ID              int64\n",
              "Gender                 object\n",
              "Marital Status         object\n",
              "City                   object\n",
              "State                  object\n",
              "Zip Code                int64\n",
              "Age                     int64\n",
              "Procedure              object\n",
              "Follow-up Attended?    object\n",
              "dtype: object"
            ]
          },
          "metadata": {},
          "execution_count": 10
        }
      ]
    },
    {
      "cell_type": "markdown",
      "source": [
        "#**BASICS STATISTICS OF DATA**"
      ],
      "metadata": {
        "id": "32YFKkGXL4WT"
      }
    },
    {
      "cell_type": "code",
      "source": [
        "df.describe()"
      ],
      "metadata": {
        "colab": {
          "base_uri": "https://localhost:8080/",
          "height": 300
        },
        "id": "xSN38SKML3et",
        "outputId": "29b28e6d-349c-4d02-b57d-5c1a066f8b31"
      },
      "execution_count": null,
      "outputs": [
        {
          "output_type": "execute_result",
          "data": {
            "text/plain": [
              "          Patient ID  Zip Code         Age\n",
              "count      99.000000      99.0   99.000000\n",
              "mean   297007.989899   81137.0   62.818182\n",
              "std    304907.283539       0.0   21.413025\n",
              "min     11234.000000   81137.0   24.000000\n",
              "25%     52802.000000   81137.0   43.000000\n",
              "50%     98812.000000   81137.0   68.000000\n",
              "75%    534712.500000   81137.0   81.000000\n",
              "max    936597.000000   81137.0  102.000000"
            ],
            "text/html": [
              "\n",
              "  <div id=\"df-f600cb67-ffeb-42c0-bac0-1afb1c44c69b\">\n",
              "    <div class=\"colab-df-container\">\n",
              "      <div>\n",
              "<style scoped>\n",
              "    .dataframe tbody tr th:only-of-type {\n",
              "        vertical-align: middle;\n",
              "    }\n",
              "\n",
              "    .dataframe tbody tr th {\n",
              "        vertical-align: top;\n",
              "    }\n",
              "\n",
              "    .dataframe thead th {\n",
              "        text-align: right;\n",
              "    }\n",
              "</style>\n",
              "<table border=\"1\" class=\"dataframe\">\n",
              "  <thead>\n",
              "    <tr style=\"text-align: right;\">\n",
              "      <th></th>\n",
              "      <th>Patient ID</th>\n",
              "      <th>Zip Code</th>\n",
              "      <th>Age</th>\n",
              "    </tr>\n",
              "  </thead>\n",
              "  <tbody>\n",
              "    <tr>\n",
              "      <th>count</th>\n",
              "      <td>99.000000</td>\n",
              "      <td>99.0</td>\n",
              "      <td>99.000000</td>\n",
              "    </tr>\n",
              "    <tr>\n",
              "      <th>mean</th>\n",
              "      <td>297007.989899</td>\n",
              "      <td>81137.0</td>\n",
              "      <td>62.818182</td>\n",
              "    </tr>\n",
              "    <tr>\n",
              "      <th>std</th>\n",
              "      <td>304907.283539</td>\n",
              "      <td>0.0</td>\n",
              "      <td>21.413025</td>\n",
              "    </tr>\n",
              "    <tr>\n",
              "      <th>min</th>\n",
              "      <td>11234.000000</td>\n",
              "      <td>81137.0</td>\n",
              "      <td>24.000000</td>\n",
              "    </tr>\n",
              "    <tr>\n",
              "      <th>25%</th>\n",
              "      <td>52802.000000</td>\n",
              "      <td>81137.0</td>\n",
              "      <td>43.000000</td>\n",
              "    </tr>\n",
              "    <tr>\n",
              "      <th>50%</th>\n",
              "      <td>98812.000000</td>\n",
              "      <td>81137.0</td>\n",
              "      <td>68.000000</td>\n",
              "    </tr>\n",
              "    <tr>\n",
              "      <th>75%</th>\n",
              "      <td>534712.500000</td>\n",
              "      <td>81137.0</td>\n",
              "      <td>81.000000</td>\n",
              "    </tr>\n",
              "    <tr>\n",
              "      <th>max</th>\n",
              "      <td>936597.000000</td>\n",
              "      <td>81137.0</td>\n",
              "      <td>102.000000</td>\n",
              "    </tr>\n",
              "  </tbody>\n",
              "</table>\n",
              "</div>\n",
              "      <button class=\"colab-df-convert\" onclick=\"convertToInteractive('df-f600cb67-ffeb-42c0-bac0-1afb1c44c69b')\"\n",
              "              title=\"Convert this dataframe to an interactive table.\"\n",
              "              style=\"display:none;\">\n",
              "        \n",
              "  <svg xmlns=\"http://www.w3.org/2000/svg\" height=\"24px\"viewBox=\"0 0 24 24\"\n",
              "       width=\"24px\">\n",
              "    <path d=\"M0 0h24v24H0V0z\" fill=\"none\"/>\n",
              "    <path d=\"M18.56 5.44l.94 2.06.94-2.06 2.06-.94-2.06-.94-.94-2.06-.94 2.06-2.06.94zm-11 1L8.5 8.5l.94-2.06 2.06-.94-2.06-.94L8.5 2.5l-.94 2.06-2.06.94zm10 10l.94 2.06.94-2.06 2.06-.94-2.06-.94-.94-2.06-.94 2.06-2.06.94z\"/><path d=\"M17.41 7.96l-1.37-1.37c-.4-.4-.92-.59-1.43-.59-.52 0-1.04.2-1.43.59L10.3 9.45l-7.72 7.72c-.78.78-.78 2.05 0 2.83L4 21.41c.39.39.9.59 1.41.59.51 0 1.02-.2 1.41-.59l7.78-7.78 2.81-2.81c.8-.78.8-2.07 0-2.86zM5.41 20L4 18.59l7.72-7.72 1.47 1.35L5.41 20z\"/>\n",
              "  </svg>\n",
              "      </button>\n",
              "      \n",
              "  <style>\n",
              "    .colab-df-container {\n",
              "      display:flex;\n",
              "      flex-wrap:wrap;\n",
              "      gap: 12px;\n",
              "    }\n",
              "\n",
              "    .colab-df-convert {\n",
              "      background-color: #E8F0FE;\n",
              "      border: none;\n",
              "      border-radius: 50%;\n",
              "      cursor: pointer;\n",
              "      display: none;\n",
              "      fill: #1967D2;\n",
              "      height: 32px;\n",
              "      padding: 0 0 0 0;\n",
              "      width: 32px;\n",
              "    }\n",
              "\n",
              "    .colab-df-convert:hover {\n",
              "      background-color: #E2EBFA;\n",
              "      box-shadow: 0px 1px 2px rgba(60, 64, 67, 0.3), 0px 1px 3px 1px rgba(60, 64, 67, 0.15);\n",
              "      fill: #174EA6;\n",
              "    }\n",
              "\n",
              "    [theme=dark] .colab-df-convert {\n",
              "      background-color: #3B4455;\n",
              "      fill: #D2E3FC;\n",
              "    }\n",
              "\n",
              "    [theme=dark] .colab-df-convert:hover {\n",
              "      background-color: #434B5C;\n",
              "      box-shadow: 0px 1px 3px 1px rgba(0, 0, 0, 0.15);\n",
              "      filter: drop-shadow(0px 1px 2px rgba(0, 0, 0, 0.3));\n",
              "      fill: #FFFFFF;\n",
              "    }\n",
              "  </style>\n",
              "\n",
              "      <script>\n",
              "        const buttonEl =\n",
              "          document.querySelector('#df-f600cb67-ffeb-42c0-bac0-1afb1c44c69b button.colab-df-convert');\n",
              "        buttonEl.style.display =\n",
              "          google.colab.kernel.accessAllowed ? 'block' : 'none';\n",
              "\n",
              "        async function convertToInteractive(key) {\n",
              "          const element = document.querySelector('#df-f600cb67-ffeb-42c0-bac0-1afb1c44c69b');\n",
              "          const dataTable =\n",
              "            await google.colab.kernel.invokeFunction('convertToInteractive',\n",
              "                                                     [key], {});\n",
              "          if (!dataTable) return;\n",
              "\n",
              "          const docLinkHtml = 'Like what you see? Visit the ' +\n",
              "            '<a target=\"_blank\" href=https://colab.research.google.com/notebooks/data_table.ipynb>data table notebook</a>'\n",
              "            + ' to learn more about interactive tables.';\n",
              "          element.innerHTML = '';\n",
              "          dataTable['output_type'] = 'display_data';\n",
              "          await google.colab.output.renderOutput(dataTable, element);\n",
              "          const docLink = document.createElement('div');\n",
              "          docLink.innerHTML = docLinkHtml;\n",
              "          element.appendChild(docLink);\n",
              "        }\n",
              "      </script>\n",
              "    </div>\n",
              "  </div>\n",
              "  "
            ]
          },
          "metadata": {},
          "execution_count": 11
        }
      ]
    },
    {
      "cell_type": "markdown",
      "source": [
        "# **Renaming feature**"
      ],
      "metadata": {
        "id": "pXP5a3LfLoX9"
      }
    },
    {
      "cell_type": "code",
      "source": [
        "df.rename(columns={\"Follow-up Attended?\":\"Follow_up\"},inplace=True)"
      ],
      "metadata": {
        "id": "aocRrLHatP1I"
      },
      "execution_count": null,
      "outputs": []
    },
    {
      "cell_type": "markdown",
      "source": [
        "#**Gender**"
      ],
      "metadata": {
        "id": "b4UbivsCflS3"
      }
    },
    {
      "cell_type": "code",
      "source": [
        "gender=df[\"Gender\"].value_counts()"
      ],
      "metadata": {
        "id": "ljKjPU_TfkUu"
      },
      "execution_count": null,
      "outputs": []
    },
    {
      "cell_type": "code",
      "source": [
        "gender_key=gender.keys()"
      ],
      "metadata": {
        "id": "jsfkl7_thB-H"
      },
      "execution_count": null,
      "outputs": []
    },
    {
      "cell_type": "code",
      "source": [
        "circle = plt.Circle( (0,0), 0.4, color='white')\n",
        "plt.figure(figsize=(10,7))\n",
        "p=plt.gcf()\n",
        "p.gca().add_artist(circle)\n",
        "colors = sns.color_palette('Set1_r')[0:5]\n",
        "explode = [0.0, 0.0,0.0,0.0,0.0]\n",
        "plt.title(\"percentage of gender'\",color=\"indigo\",size=20)\n",
        "plt.pie(gender,labels=gender_key,startangle = 180,colors = colors,shadow = True,explode=explode,autopct=\"%2.1f%%\")\n",
        "plt.legend(title = \"Gender\")\n",
        "plt.show()\n"
      ],
      "metadata": {
        "colab": {
          "base_uri": "https://localhost:8080/",
          "height": 432
        },
        "id": "P5SPa579mewO",
        "outputId": "cbeaf262-958a-4c43-9da7-a3e2bf052081"
      },
      "execution_count": null,
      "outputs": [
        {
          "output_type": "display_data",
          "data": {
            "text/plain": [
              "<Figure size 720x504 with 1 Axes>"
            ],
            "image/png": "[encoded data removed]"
          },
          "metadata": {}
        }
      ]
    },
    {
      "cell_type": "markdown",
      "source": [
        "**we can see more female patients than male patients**"
      ],
      "metadata": {
        "id": "OWkO3ycOlv5A"
      }
    },
    {
      "cell_type": "markdown",
      "source": [
        "#**marital Status**"
      ],
      "metadata": {
        "id": "pTtRzY2Ia1yk"
      }
    },
    {
      "cell_type": "code",
      "source": [
        "marital_status=df[\"Marital Status\"].value_counts()"
      ],
      "metadata": {
        "id": "6qg7Vc0ra_Oa"
      },
      "execution_count": null,
      "outputs": []
    },
    {
      "cell_type": "code",
      "source": [
        "marital_status_key=marital_status.keys()"
      ],
      "metadata": {
        "id": "oFhYhfY3bO-M"
      },
      "execution_count": null,
      "outputs": []
    },
    {
      "cell_type": "code",
      "source": [
        "circle = plt.Circle( (0,0), 0.4, color='white')\n",
        "plt.figure(figsize=(12,9))\n",
        "p=plt.gcf()\n",
        "p.gca().add_artist(circle)\n",
        "colors = sns.color_palette('Set1_r')[0:5]\n",
        "explode = [0.0, 0.0,0.0,0.0,0.0]\n",
        "plt.title(\"marital status'\",color=\"indigo\",size=20)\n",
        "plt.pie(marital_status,labels=marital_status_key,startangle = 180,colors = colors,shadow = True,explode=explode,autopct=\"%2.1f%%\")\n",
        "plt.legend(title = \"marital_status\")\n",
        "plt.show()\n"
      ],
      "metadata": {
        "colab": {
          "base_uri": "https://localhost:8080/",
          "height": 541
        },
        "id": "1S0a1LajbZbz",
        "outputId": "8c50cf14-35c0-47d3-9f5c-c0720f7b6c61"
      },
      "execution_count": null,
      "outputs": [
        {
          "output_type": "display_data",
          "data": {
            "text/plain": [
              "<Figure size 864x648 with 1 Axes>"
            ],
            "image/png": "[encoded data removed]"
          },
          "metadata": {}
        }
      ]
    },
    {
      "cell_type": "markdown",
      "source": [
        "***Except partnership, there is minimal differentiation among other marital statuses. As a result, marital status has no effect..***"
      ],
      "metadata": {
        "id": "h-x8HBx-mvKd"
      }
    },
    {
      "cell_type": "markdown",
      "source": [
        "#**City**"
      ],
      "metadata": {
        "id": "bliS8qJqcYE2"
      }
    },
    {
      "cell_type": "code",
      "source": [
        "city=df[\"City\"].value_counts()"
      ],
      "metadata": {
        "id": "2tx0PCM3cXZ7"
      },
      "execution_count": null,
      "outputs": []
    },
    {
      "cell_type": "code",
      "source": [
        "city_key=city.keys()"
      ],
      "metadata": {
        "id": "jdU-CdRtcn2j"
      },
      "execution_count": null,
      "outputs": []
    },
    {
      "cell_type": "code",
      "source": [
        "plt.figure(figsize=(5,6))\n",
        "sns.barplot(x=city_key,y=city,palette=\"gist_stern_r\")\n",
        "plt.title(\"city\",color=\"blue\")\n",
        "plt.xlabel(\"city \",color=\"purple\")\n",
        "plt.ylabel(\"count\",color=\"purple\")\n",
        "plt.xticks(rotation=90)\n",
        "plt.show"
      ],
      "metadata": {
        "colab": {
          "base_uri": "https://localhost:8080/",
          "height": 477
        },
        "id": "CXi8VSBXdFom",
        "outputId": "c23b3281-bb26-4f8d-c269-85d99b588ca8"
      },
      "execution_count": null,
      "outputs": [
        {
          "output_type": "execute_result",
          "data": {
            "text/plain": [
              "<function matplotlib.pyplot.show(*args, **kw)>"
            ]
          },
          "metadata": {},
          "execution_count": 21
        },
        {
          "output_type": "display_data",
          "data": {
            "text/plain": [
              "<Figure size 360x432 with 1 Axes>"
            ],
            "image/png": "[encoded data removed]"
          },
          "metadata": {
            "needs_background": "light"
          }
        }
      ]
    },
    {
      "cell_type": "markdown",
      "source": [
        "***patients from Allison city are more than Southern city***"
      ],
      "metadata": {
        "id": "pZs3UxsNoGH2"
      }
    },
    {
      "cell_type": "markdown",
      "source": [
        "#**Age**"
      ],
      "metadata": {
        "id": "jA7gY9NFhMen"
      }
    },
    {
      "cell_type": "code",
      "source": [
        "age=df[\"Age\"].value_counts().sort_values(ascending=False)"
      ],
      "metadata": {
        "id": "DqfE1OuuhPdt"
      },
      "execution_count": null,
      "outputs": []
    },
    {
      "cell_type": "code",
      "source": [
        "age_key=age.keys()"
      ],
      "metadata": {
        "id": "lb47R36nhX-K"
      },
      "execution_count": null,
      "outputs": []
    },
    {
      "cell_type": "code",
      "source": [
        "plt.figure(figsize=(20,6))\n",
        "sns.barplot(x=age_key,y=age,palette=\"Dark2\")\n",
        "plt.title(\"age\",color=\"blue\")\n",
        "plt.xlabel(\"age \",color=\"purple\")\n",
        "plt.ylabel(\"count\",color=\"purple\")\n",
        "plt.show"
      ],
      "metadata": {
        "colab": {
          "base_uri": "https://localhost:8080/",
          "height": 418
        },
        "id": "0g2eXLgAiOHY",
        "outputId": "2a587242-54d3-46e2-9109-8213854eb211"
      },
      "execution_count": null,
      "outputs": [
        {
          "output_type": "execute_result",
          "data": {
            "text/plain": [
              "<function matplotlib.pyplot.show(*args, **kw)>"
            ]
          },
          "metadata": {},
          "execution_count": 24
        },
        {
          "output_type": "display_data",
          "data": {
            "text/plain": [
              "<Figure size 1440x432 with 1 Axes>"
            ],
            "image/png": "[encoded data removed]"
          },
          "metadata": {
            "needs_background": "light"
          }
        }
      ]
    },
    {
      "cell_type": "markdown",
      "source": [
        "***there are more older patients than younger***"
      ],
      "metadata": {
        "id": "W9wh9cWmq89V"
      }
    },
    {
      "cell_type": "markdown",
      "source": [
        "#**Procedure**"
      ],
      "metadata": {
        "id": "GyT-VRcFji45"
      }
    },
    {
      "cell_type": "code",
      "source": [
        "proc=df[\"Procedure\"].value_counts().sort_values(ascending=False)"
      ],
      "metadata": {
        "id": "irN8G0jyjlUL"
      },
      "execution_count": null,
      "outputs": []
    },
    {
      "cell_type": "code",
      "source": [
        "proc_key=proc.keys()"
      ],
      "metadata": {
        "id": "2eiwBDk-jvpu"
      },
      "execution_count": null,
      "outputs": []
    },
    {
      "cell_type": "code",
      "source": [
        "plt.figure(figsize=(10,6))\n",
        "sns.barplot(x=proc_key,y=proc)\n",
        "plt.title(\"age\",color=\"blue\")\n",
        "plt.xlabel(\"age \",color=\"purple\")\n",
        "plt.ylabel(\"count\",color=\"purple\")\n",
        "plt.show\n"
      ],
      "metadata": {
        "colab": {
          "base_uri": "https://localhost:8080/",
          "height": 421
        },
        "id": "XjGVvutXj4Ad",
        "outputId": "3827e550-e098-4a71-c217-9910788266ed"
      },
      "execution_count": null,
      "outputs": [
        {
          "output_type": "execute_result",
          "data": {
            "text/plain": [
              "<function matplotlib.pyplot.show(*args, **kw)>"
            ]
          },
          "metadata": {},
          "execution_count": 27
        },
        {
          "output_type": "display_data",
          "data": {
            "text/plain": [
              "<Figure size 720x432 with 1 Axes>"
            ],
            "image/png": "[encoded data removed]"
          },
          "metadata": {
            "needs_background": "light"
          }
        }
      ]
    },
    {
      "cell_type": "markdown",
      "source": [
        "***The most preferable procedure is extraction.***"
      ],
      "metadata": {
        "id": "U9N3t3eorJcC"
      }
    },
    {
      "cell_type": "markdown",
      "source": [
        "#**Follow-up Attended?'],**"
      ],
      "metadata": {
        "id": "w-c4MGFFlHAW"
      }
    },
    {
      "cell_type": "code",
      "source": [
        "follow=df[\"Follow_up\"].value_counts()"
      ],
      "metadata": {
        "id": "6qHwjZhclWPe"
      },
      "execution_count": null,
      "outputs": []
    },
    {
      "cell_type": "code",
      "source": [
        "follow_key=follow.keys()"
      ],
      "metadata": {
        "id": "hUrmxpS5lpe9"
      },
      "execution_count": null,
      "outputs": []
    },
    {
      "cell_type": "code",
      "source": [
        "circle = plt.Circle( (0,0), 0.4, color='white')\n",
        "plt.figure(figsize=(12,5))\n",
        "p=plt.gcf()\n",
        "p.gca().add_artist(circle)\n",
        "colors = sns.color_palette('RdYlGn')\n",
        "explode = [0.0, 0.0]\n",
        "plt.title(\"Fllow_up'\",color=\"indigo\",size=20)\n",
        "plt.pie(follow,labels=follow_key,startangle = 180,colors = colors,shadow = True,explode=explode,autopct=\"%2.1f%%\")\n",
        "plt.legend(title = \"Follow up\")\n",
        "plt.show()\n"
      ],
      "metadata": {
        "colab": {
          "base_uri": "https://localhost:8080/",
          "height": 324
        },
        "id": "TIFPZfzxlhJd",
        "outputId": "983b51fa-8295-4646-cf78-409d72a9a6cf"
      },
      "execution_count": null,
      "outputs": [
        {
          "output_type": "display_data",
          "data": {
            "text/plain": [
              "<Figure size 864x360 with 1 Axes>"
            ],
            "image/png": "[encoded data removed]"
          },
          "metadata": {}
        }
      ]
    },
    {
      "cell_type": "markdown",
      "source": [
        "***more than half of the  patients showed up for the follow up***"
      ],
      "metadata": {
        "id": "uBHFdjt0sVq7"
      }
    },
    {
      "cell_type": "markdown",
      "source": [
        "#**Follow-up based on age**"
      ],
      "metadata": {
        "id": "fTCRxv0rsq1W"
      }
    },
    {
      "cell_type": "code",
      "source": [
        "filt_followup=df[\"Follow_up\"] == \"Yes\""
      ],
      "metadata": {
        "id": "nCxtE0gN7rE9"
      },
      "execution_count": null,
      "outputs": []
    },
    {
      "cell_type": "code",
      "source": [
        "filt_followup"
      ],
      "metadata": {
        "id": "nS6hx7MMDZ9Q",
        "colab": {
          "base_uri": "https://localhost:8080/"
        },
        "outputId": "387b14fa-c2e2-488a-8f20-ca561f2900e3"
      },
      "execution_count": null,
      "outputs": [
        {
          "output_type": "execute_result",
          "data": {
            "text/plain": [
              "0      True\n",
              "1     False\n",
              "2     False\n",
              "3     False\n",
              "4      True\n",
              "      ...  \n",
              "94    False\n",
              "95     True\n",
              "96     True\n",
              "97     True\n",
              "98     True\n",
              "Name: Follow_up, Length: 99, dtype: bool"
            ]
          },
          "metadata": {},
          "execution_count": 32
        }
      ]
    },
    {
      "cell_type": "code",
      "source": [
        "age_followup=df.loc[filt_followup,[\"Age\"]]\n"
      ],
      "metadata": {
        "id": "FVeRYODa8DMh"
      },
      "execution_count": null,
      "outputs": []
    },
    {
      "cell_type": "code",
      "source": [
        "gen_follow =age_followup[\"Age\"].value_counts()\n",
        "gen_follow.head()"
      ],
      "metadata": {
        "id": "syzfSfclB27U",
        "colab": {
          "base_uri": "https://localhost:8080/"
        },
        "outputId": "8ce6fcd3-6fe6-4a7e-8290-8eccf2efca30"
      },
      "execution_count": null,
      "outputs": [
        {
          "output_type": "execute_result",
          "data": {
            "text/plain": [
              "38    3\n",
              "62    2\n",
              "68    2\n",
              "63    2\n",
              "84    2\n",
              "Name: Age, dtype: int64"
            ]
          },
          "metadata": {},
          "execution_count": 34
        }
      ]
    },
    {
      "cell_type": "code",
      "source": [
        "gen_follow_key=gen_follow.keys()"
      ],
      "metadata": {
        "id": "DacnvCvqLzf2"
      },
      "execution_count": null,
      "outputs": []
    },
    {
      "cell_type": "code",
      "source": [
        "plt.figure(figsize=(18,8))\n",
        "sns.lineplot(y=gen_follow_key,x=gen_follow,color= \"green\")\n",
        "plt.title(\"follow up based on age\",color=\"red\")\n",
        "plt.xlabel(\"count\",color=\"purple\")\n",
        "plt.ylabel(\"age\",color=\"purple\")\n",
        "plt.show"
      ],
      "metadata": {
        "id": "Tq6PDps0L4tC",
        "colab": {
          "base_uri": "https://localhost:8080/",
          "height": 530
        },
        "outputId": "b7a810cf-c6a4-4feb-edc3-ddf28b118a28"
      },
      "execution_count": null,
      "outputs": [
        {
          "output_type": "execute_result",
          "data": {
            "text/plain": [
              "<function matplotlib.pyplot.show(*args, **kw)>"
            ]
          },
          "metadata": {},
          "execution_count": 36
        },
        {
          "output_type": "display_data",
          "data": {
            "text/plain": [
              "<Figure size 1296x576 with 1 Axes>"
            ],
            "image/png": "[encoded data removed]"
          },
          "metadata": {
            "needs_background": "light"
          }
        }
      ]
    },
    {
      "cell_type": "markdown",
      "source": [
        "***depending on age, foloow_up tendency is decreasing***"
      ],
      "metadata": {
        "id": "gDEtE99qsl2l"
      }
    },
    {
      "cell_type": "markdown",
      "source": [
        "#**Follow-up based on gender**"
      ],
      "metadata": {
        "id": "lVcPJAdEQpm3"
      }
    },
    {
      "cell_type": "code",
      "source": [
        "gender_followup=df.loc[filt_followup,[\"Gender\"]]"
      ],
      "metadata": {
        "id": "_tqPbPyhQpNq"
      },
      "execution_count": null,
      "outputs": []
    },
    {
      "cell_type": "code",
      "source": [
        "gender_followup_count=gender_followup[\"Gender\"].value_counts()"
      ],
      "metadata": {
        "id": "yxpWg-GkNmZ9"
      },
      "execution_count": null,
      "outputs": []
    },
    {
      "cell_type": "code",
      "source": [
        "gender_followup_count_key=gender_followup_count.keys()"
      ],
      "metadata": {
        "id": "rE5vCaNfZtD6"
      },
      "execution_count": null,
      "outputs": []
    },
    {
      "cell_type": "code",
      "source": [
        "plt.figure(figsize=(10,6))\n",
        "sns.barplot(x=gender_followup_count_key,y=gender_followup_count)\n",
        "plt.title(\"Follow-up based on gender\",color=\"blue\")\n",
        "plt.xlabel(\"count\",color=\"purple\")\n",
        "plt.ylabel(\"age\",color=\"purple\")\n",
        "plt.show\n"
      ],
      "metadata": {
        "colab": {
          "base_uri": "https://localhost:8080/",
          "height": 421
        },
        "outputId": "5e9cfe79-4ebf-40f1-afcc-409ac0c96560",
        "id": "yMltRnDXe5kV"
      },
      "execution_count": null,
      "outputs": [
        {
          "output_type": "execute_result",
          "data": {
            "text/plain": [
              "<function matplotlib.pyplot.show(*args, **kw)>"
            ]
          },
          "metadata": {},
          "execution_count": 40
        },
        {
          "output_type": "display_data",
          "data": {
            "text/plain": [
              "<Figure size 720x432 with 1 Axes>"
            ],
            "image/png": "[encoded data removed]"
          },
          "metadata": {
            "needs_background": "light"
          }
        }
      ]
    },
    {
      "cell_type": "markdown",
      "source": [
        "***Both male and female patients are serious about their follow-up***"
      ],
      "metadata": {
        "id": "wrV7EdMItSUM"
      }
    }
  ]
}